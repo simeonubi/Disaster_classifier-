{
  "nbformat": 4,
  "nbformat_minor": 0,
  "metadata": {
    "colab": {
      "name": "Disaster_w2v.ipynb",
      "provenance": [],
      "collapsed_sections": [],
      "include_colab_link": true
    },
    "kernelspec": {
      "name": "python3",
      "display_name": "Python 3"
    }
  },
  "cells": [
    {
      "cell_type": "markdown",
      "metadata": {
        "id": "view-in-github",
        "colab_type": "text"
      },
      "source": [
        "<a href=\"https://colab.research.google.com/github/simeonubi/Disaster_classifier-/blob/main/Disaster_w2v.ipynb\" target=\"_parent\"><img src=\"https://colab.research.google.com/assets/colab-badge.svg\" alt=\"Open In Colab\"/></a>"
      ]
    },
    {
      "cell_type": "code",
      "metadata": {
        "id": "aFcgCFxPk_Jf",
        "colab": {
          "base_uri": "https://localhost:8080/"
        },
        "outputId": "4ecd3a08-bc90-4167-e1b0-4f486fec6561"
      },
      "source": [
        "from sklearn.metrics import classification_report, confusion_matrix, accuracy_score\n",
        "from sklearn.model_selection import train_test_split\n",
        "from sklearn.utils import shuffle\n",
        "from sklearn.externals import joblib\n",
        "from sklearn.feature_extraction.text import CountVectorizer\n",
        "from sklearn.feature_extraction.text import TfidfTransformer\n",
        "from sklearn.feature_extraction.text import TfidfVectorizer\n",
        "from sklearn.decomposition import TruncatedSVD\n",
        "from sklearn.model_selection import GridSearchCV\n",
        "from sklearn.ensemble import RandomForestClassifier\n",
        "from sklearn.tree import DecisionTreeClassifier\n",
        "from sklearn import naive_bayes\n",
        "import xgboost as xgb\n",
        "from sklearn import svm\n",
        "import pandas as pd\n",
        "import numpy as np\n",
        "from gensim.models import KeyedVectors\n",
        "from gensim.models import word2vec\n",
        "import pickle\n",
        "from tqdm import tqdm"
      ],
      "execution_count": null,
      "outputs": [
        {
          "output_type": "stream",
          "text": [
            "/usr/local/lib/python3.7/dist-packages/sklearn/externals/joblib/__init__.py:15: FutureWarning: sklearn.externals.joblib is deprecated in 0.21 and will be removed in 0.23. Please import this functionality directly from joblib, which can be installed with: pip install joblib. If this warning is raised when loading pickled models, you may need to re-serialize those models with scikit-learn 0.21+.\n",
            "  warnings.warn(msg, category=FutureWarning)\n"
          ],
          "name": "stderr"
        }
      ]
    },
    {
      "cell_type": "code",
      "metadata": {
        "id": "Pnmt4Su0NO3Z"
      },
      "source": [
        "from google.colab import drive\n",
        "drive.mount('/content/drive')"
      ],
      "execution_count": null,
      "outputs": []
    },
    {
      "cell_type": "code",
      "metadata": {
        "id": "q8M9292MviSM"
      },
      "source": [
        "#import cleaned data\n",
        "df = pd.read_pickle('/content/drive/MyDrive/data 2/clean_data.pkl')"
      ],
      "execution_count": null,
      "outputs": []
    },
    {
      "cell_type": "code",
      "metadata": {
        "id": "raGGNtMbwF-t",
        "colab": {
          "base_uri": "https://localhost:8080/",
          "height": 205
        },
        "outputId": "c63af58b-e38c-4606-c7ab-ace593fa61ae"
      },
      "source": [
        "df.head()"
      ],
      "execution_count": null,
      "outputs": [
        {
          "output_type": "execute_result",
          "data": {
            "text/html": [
              "<div>\n",
              "<style scoped>\n",
              "    .dataframe tbody tr th:only-of-type {\n",
              "        vertical-align: middle;\n",
              "    }\n",
              "\n",
              "    .dataframe tbody tr th {\n",
              "        vertical-align: top;\n",
              "    }\n",
              "\n",
              "    .dataframe thead th {\n",
              "        text-align: right;\n",
              "    }\n",
              "</style>\n",
              "<table border=\"1\" class=\"dataframe\">\n",
              "  <thead>\n",
              "    <tr style=\"text-align: right;\">\n",
              "      <th></th>\n",
              "      <th>text</th>\n",
              "      <th>target</th>\n",
              "    </tr>\n",
              "  </thead>\n",
              "  <tbody>\n",
              "    <tr>\n",
              "      <th>0</th>\n",
              "      <td>witnessed first demolition derby today psa exc...</td>\n",
              "      <td>0</td>\n",
              "    </tr>\n",
              "    <tr>\n",
              "      <th>1</th>\n",
              "      <td>help love suffer selfesteem wounds today</td>\n",
              "      <td>0</td>\n",
              "    </tr>\n",
              "    <tr>\n",
              "      <th>2</th>\n",
              "      <td>greer man dies wreck</td>\n",
              "      <td>1</td>\n",
              "    </tr>\n",
              "    <tr>\n",
              "      <th>3</th>\n",
              "      <td>harbhajansingh believeis stuart broad destroye...</td>\n",
              "      <td>0</td>\n",
              "    </tr>\n",
              "    <tr>\n",
              "      <th>4</th>\n",
              "      <td>alfapedia might burst bomb making suicide bomber</td>\n",
              "      <td>1</td>\n",
              "    </tr>\n",
              "  </tbody>\n",
              "</table>\n",
              "</div>"
            ],
            "text/plain": [
              "                                                text  target\n",
              "0  witnessed first demolition derby today psa exc...       0\n",
              "1           help love suffer selfesteem wounds today       0\n",
              "2                               greer man dies wreck       1\n",
              "3  harbhajansingh believeis stuart broad destroye...       0\n",
              "4   alfapedia might burst bomb making suicide bomber       1"
            ]
          },
          "metadata": {
            "tags": []
          },
          "execution_count": 5
        }
      ]
    },
    {
      "cell_type": "code",
      "metadata": {
        "id": "t3oBuCtLls-t"
      },
      "source": [
        "#split data into train and validation\n",
        "#train, val = train_test_split(df, test_size= 0.20)"
      ],
      "execution_count": null,
      "outputs": []
    },
    {
      "cell_type": "code",
      "metadata": {
        "id": "bn1CW1Dr8v7x"
      },
      "source": [
        "#appends each sentence into a list for train\n",
        "#list_train=[]\n",
        "#for sentance in train.text:\n",
        "    #list_train.append(sentance.split())"
      ],
      "execution_count": null,
      "outputs": []
    },
    {
      "cell_type": "code",
      "metadata": {
        "id": "pfvn-rL_870B"
      },
      "source": [
        "#appends each sentence into a list for validation\n",
        "#list_val=[]\n",
        "#for sentance in val.text:\n",
        "    #list_val.append(sentance.split())"
      ],
      "execution_count": null,
      "outputs": []
    },
    {
      "cell_type": "code",
      "metadata": {
        "id": "c0GQRtHQ-nDR"
      },
      "source": [
        "#convert to list to array\n",
        "#list_train = np.array(list_train)\n",
        "#list_val = np.array(list_val)"
      ],
      "execution_count": null,
      "outputs": []
    },
    {
      "cell_type": "code",
      "metadata": {
        "id": "PpGcV0wPmO2f",
        "colab": {
          "base_uri": "https://localhost:8080/",
          "height": 34
        },
        "outputId": "5cbbf4d6-3412-497f-c2b0-62a6162746fd"
      },
      "source": [
        "#val.shape"
      ],
      "execution_count": null,
      "outputs": [
        {
          "output_type": "execute_result",
          "data": {
            "text/plain": [
              "(1523, 2)"
            ]
          },
          "metadata": {
            "tags": []
          },
          "execution_count": 17
        }
      ]
    },
    {
      "cell_type": "code",
      "metadata": {
        "id": "P6T2sVOcvW_j"
      },
      "source": [
        "#get the target variable\n",
        "target = df.target"
      ],
      "execution_count": null,
      "outputs": []
    },
    {
      "cell_type": "code",
      "metadata": {
        "id": "mFF8tpHMwzgz"
      },
      "source": [
        "#get word embedding file\n",
        "EMBEDDING_FILE = '/content/drive/My Drive/Word2Vec/GoogleNews-vectors-negative300.bin.gz'"
      ],
      "execution_count": null,
      "outputs": []
    },
    {
      "cell_type": "code",
      "metadata": {
        "id": "4mGHjWQIbxMA"
      },
      "source": [
        "i=0\n",
        "list_of_sentance=[]\n",
        "for sentance in df.text:\n",
        "    list_of_sentance.append(sentance.split())"
      ],
      "execution_count": null,
      "outputs": []
    },
    {
      "cell_type": "code",
      "metadata": {
        "id": "xt0LhvScxNpT",
        "colab": {
          "base_uri": "https://localhost:8080/",
          "height": 71
        },
        "outputId": "15d2c6d8-d53b-441e-d603-315c76fb9a17"
      },
      "source": [
        "#loads word embedding\n",
        "w2v = KeyedVectors.load_word2vec_format(EMBEDDING_FILE, binary=True)"
      ],
      "execution_count": null,
      "outputs": [
        {
          "output_type": "stream",
          "text": [
            "/usr/local/lib/python3.6/dist-packages/smart_open/smart_open_lib.py:253: UserWarning: This function is deprecated, use smart_open.open instead. See the migration notes for details: https://github.com/RaRe-Technologies/smart_open/blob/master/README.rst#migrating-to-the-new-open-function\n",
            "  'See the migration notes for details: %s' % _MIGRATION_NOTES_URL\n"
          ],
          "name": "stderr"
        }
      ]
    },
    {
      "cell_type": "code",
      "metadata": {
        "id": "gzLOHp2lxhJC",
        "colab": {
          "base_uri": "https://localhost:8080/",
          "height": 68
        },
        "outputId": "1391dee4-07dc-4a1e-fed4-8f2c78f44bd8"
      },
      "source": [
        "#word embedding vector for the word \"test\"\n",
        "w2v.word_vec(\"test\")[:10]"
      ],
      "execution_count": null,
      "outputs": [
        {
          "output_type": "execute_result",
          "data": {
            "text/plain": [
              "array([-0.14257812, -0.03686523,  0.13574219, -0.06201172,  0.07958984,\n",
              "        0.01904297, -0.08154297, -0.12792969, -0.02954102,  0.23632812],\n",
              "      dtype=float32)"
            ]
          },
          "metadata": {
            "tags": []
          },
          "execution_count": 8
        }
      ]
    },
    {
      "cell_type": "code",
      "metadata": {
        "id": "mt90NfNwpkzt",
        "colab": {
          "base_uri": "https://localhost:8080/",
          "height": 105
        },
        "outputId": "7406f53a-6324-4192-dd57-40f1d45f6ee0"
      },
      "source": [
        "#gets words in word embadding that occurs more than 5 time\n",
        "w2v_words = list(w2v.wv.vocab)\n",
        "print(\"number of words that occured minimum 5 times \",len(w2v_words))\n",
        "print(\"sample words \", w2v_words[0:50])"
      ],
      "execution_count": null,
      "outputs": [
        {
          "output_type": "stream",
          "text": [
            "number of words that occured minimum 5 times  3000000\n",
            "sample words  ['</s>', 'in', 'for', 'that', 'is', 'on', '##', 'The', 'with', 'said', 'was', 'the', 'at', 'not', 'as', 'it', 'be', 'from', 'by', 'are', 'I', 'have', 'he', 'will', 'has', '####', 'his', 'an', 'this', 'or', 'their', 'who', 'they', 'but', '$', 'had', 'year', 'were', 'we', 'more', '###', 'up', 'been', 'you', 'its', 'one', 'about', 'would', 'which', 'out']\n"
          ],
          "name": "stdout"
        },
        {
          "output_type": "stream",
          "text": [
            "/usr/local/lib/python3.6/dist-packages/ipykernel_launcher.py:1: DeprecationWarning: Call to deprecated `wv` (Attribute will be removed in 4.0.0, use self instead).\n",
            "  \"\"\"Entry point for launching an IPython kernel.\n"
          ],
          "name": "stderr"
        }
      ]
    },
    {
      "cell_type": "markdown",
      "metadata": {
        "id": "lDRuZ6Xl7snX"
      },
      "source": [
        "## **Average Word2Vec**"
      ]
    },
    {
      "cell_type": "code",
      "metadata": {
        "id": "xFq7t0_K2b1C",
        "colab": {
          "base_uri": "https://localhost:8080/",
          "height": 122
        },
        "outputId": "97cf9e8d-5f49-46fc-f32a-654a82f9bca9"
      },
      "source": [
        "# average Word2Vec\n",
        "# compute average word2vec for each review.\n",
        "sent_vectors = []; # the avg-w2v for each sentence/review is stored in this list\n",
        "for sent in tqdm(list_of_sentance): # for each review/sentence\n",
        "    sent_vec = np.zeros(300) # as word vectors are of zero length 50, you might need to change this to 300 if you use google's w2v\n",
        "    cnt_words =0; # num of words with a valid vector in the sentence/review\n",
        "    for word in sent: # for each word in a review/sentence\n",
        "        if word in w2v_words:\n",
        "            vec = w2v.wv[word]\n",
        "            sent_vec += vec\n",
        "            cnt_words += 1\n",
        "    if cnt_words != 0:\n",
        "        sent_vec /= cnt_words\n",
        "    sent_vectors.append(sent_vec)\n",
        "print(len(sent_vectors))\n",
        "print(len(sent_vectors[0]))"
      ],
      "execution_count": null,
      "outputs": [
        {
          "output_type": "stream",
          "text": [
            "  0%|          | 0/7613 [00:00<?, ?it/s]/usr/local/lib/python3.6/dist-packages/ipykernel_launcher.py:7: DeprecationWarning: Call to deprecated `wv` (Attribute will be removed in 4.0.0, use self instead).\n",
            "  import sys\n",
            "100%|██████████| 7613/7613 [13:54<00:00,  9.12it/s]"
          ],
          "name": "stderr"
        },
        {
          "output_type": "stream",
          "text": [
            "7613\n",
            "300\n"
          ],
          "name": "stdout"
        },
        {
          "output_type": "stream",
          "text": [
            "\n"
          ],
          "name": "stderr"
        }
      ]
    },
    {
      "cell_type": "code",
      "metadata": {
        "id": "BnztZ4hs77se"
      },
      "source": [
        "numpy_vec = np.array(sent_vectors)"
      ],
      "execution_count": null,
      "outputs": []
    },
    {
      "cell_type": "code",
      "metadata": {
        "id": "q6Oax3o_phwb"
      },
      "source": [
        "#split the word vectors into train and validation set\n",
        "X_train_w2v, y_train_w2v  = sent_vectors[0:6193], target[0:6193]\n",
        "X_val_w2v, y_val_w2v = sent_vectors[6193:], target[6193:]"
      ],
      "execution_count": null,
      "outputs": []
    },
    {
      "cell_type": "markdown",
      "metadata": {
        "id": "TFaa62S77fp4"
      },
      "source": [
        "## **SVM**"
      ]
    },
    {
      "cell_type": "code",
      "metadata": {
        "id": "ieGYiMwEvlB5",
        "colab": {
          "base_uri": "https://localhost:8080/",
          "height": 85
        },
        "outputId": "69e959d1-083d-45d6-eedc-0d16a642eee5"
      },
      "source": [
        "#support vector machine algorithm\n",
        "svm_w2v = svm.SVC()\n",
        "svm_w2v.fit(X_train_w2v, y_train_w2v)"
      ],
      "execution_count": null,
      "outputs": [
        {
          "output_type": "execute_result",
          "data": {
            "text/plain": [
              "SVC(C=1.0, break_ties=False, cache_size=200, class_weight=None, coef0=0.0,\n",
              "    decision_function_shape='ovr', degree=3, gamma='scale', kernel='rbf',\n",
              "    max_iter=-1, probability=False, random_state=None, shrinking=True,\n",
              "    tol=0.001, verbose=False)"
            ]
          },
          "metadata": {
            "tags": []
          },
          "execution_count": 21
        }
      ]
    },
    {
      "cell_type": "code",
      "metadata": {
        "id": "OuDLNTZQvyEx",
        "colab": {
          "base_uri": "https://localhost:8080/",
          "height": 272
        },
        "outputId": "774f7ce5-062d-4fa2-de36-fae60c450387"
      },
      "source": [
        "#prediction and evaluation on train data with word2vec\n",
        "pred_train = svm_w2v.predict(X_train_w2v) # Training Evaluation\n",
        "print(classification_report(y_train_w2v, pred_train))\n",
        "print()\n",
        "print('Confusion Matrix: \\n', confusion_matrix(y_train_w2v, pred_train))\n",
        "print()\n",
        "print('Accuracy :', accuracy_score(y_train_w2v, pred_train))"
      ],
      "execution_count": null,
      "outputs": [
        {
          "output_type": "stream",
          "text": [
            "              precision    recall  f1-score   support\n",
            "\n",
            "           0       0.86      0.94      0.90      3514\n",
            "           1       0.92      0.80      0.86      2679\n",
            "\n",
            "    accuracy                           0.88      6193\n",
            "   macro avg       0.89      0.87      0.88      6193\n",
            "weighted avg       0.89      0.88      0.88      6193\n",
            "\n",
            "\n",
            "Confusion Matrix: \n",
            " [[3320  194]\n",
            " [ 530 2149]]\n",
            "\n",
            "Accuracy : 0.8830938155982561\n"
          ],
          "name": "stdout"
        }
      ]
    },
    {
      "cell_type": "code",
      "metadata": {
        "id": "eO72Rcm7wxBm",
        "colab": {
          "base_uri": "https://localhost:8080/",
          "height": 272
        },
        "outputId": "47aac275-aba2-4c5c-e5e1-3088e4eb7147"
      },
      "source": [
        "#prediction and evaluation on test data with word2vec\n",
        "pred_val = svm_w2v.predict(X_val_w2v) # Test Evaluation\n",
        "print(classification_report(y_val_w2v, pred_val))\n",
        "print()\n",
        "print('Confusion Matrix: \\n', confusion_matrix(y_val_w2v, pred_val))\n",
        "print()\n",
        "print('Accuracy :', accuracy_score(y_val_w2v, pred_val))"
      ],
      "execution_count": null,
      "outputs": [
        {
          "output_type": "stream",
          "text": [
            "              precision    recall  f1-score   support\n",
            "\n",
            "           0       0.81      0.90      0.85       828\n",
            "           1       0.83      0.70      0.76       592\n",
            "\n",
            "    accuracy                           0.81      1420\n",
            "   macro avg       0.82      0.80      0.80      1420\n",
            "weighted avg       0.81      0.81      0.81      1420\n",
            "\n",
            "\n",
            "Confusion Matrix: \n",
            " [[742  86]\n",
            " [179 413]]\n",
            "\n",
            "Accuracy : 0.8133802816901409\n"
          ],
          "name": "stdout"
        }
      ]
    },
    {
      "cell_type": "code",
      "metadata": {
        "id": "oXw5AlMLxPcB"
      },
      "source": [
        ""
      ],
      "execution_count": null,
      "outputs": []
    },
    {
      "cell_type": "markdown",
      "metadata": {
        "id": "Dw4r7Z7lrdNp"
      },
      "source": [
        "## **Decision** **Tree**"
      ]
    },
    {
      "cell_type": "code",
      "metadata": {
        "id": "ayF_SFANyEc5",
        "colab": {
          "base_uri": "https://localhost:8080/",
          "height": 119
        },
        "outputId": "d405c4ce-4e73-4f08-c0f1-1e67704922cf"
      },
      "source": [
        "#Decision tree algorithm with word2vec\n",
        "decision_w2v = DecisionTreeClassifier()\n",
        "decision_w2v.fit(X_train_w2v, y_train_w2v)"
      ],
      "execution_count": null,
      "outputs": [
        {
          "output_type": "execute_result",
          "data": {
            "text/plain": [
              "DecisionTreeClassifier(ccp_alpha=0.0, class_weight=None, criterion='gini',\n",
              "                       max_depth=None, max_features=None, max_leaf_nodes=None,\n",
              "                       min_impurity_decrease=0.0, min_impurity_split=None,\n",
              "                       min_samples_leaf=1, min_samples_split=2,\n",
              "                       min_weight_fraction_leaf=0.0, presort='deprecated',\n",
              "                       random_state=None, splitter='best')"
            ]
          },
          "metadata": {
            "tags": []
          },
          "execution_count": 24
        }
      ]
    },
    {
      "cell_type": "code",
      "metadata": {
        "id": "QFN6786vyUj7",
        "colab": {
          "base_uri": "https://localhost:8080/",
          "height": 272
        },
        "outputId": "76b85950-fbd9-4055-8710-e0a7761125e9"
      },
      "source": [
        "#prediction and evaluation on train data with word2vec\n",
        "pred_train = decision_w2v.predict(X_train_w2v) # Training Evaluation\n",
        "print(classification_report(y_train_w2v, pred_train))\n",
        "print()\n",
        "print('Confusion Matrix: \\n', confusion_matrix(y_train_w2v, pred_train))\n",
        "print()\n",
        "print('Accuracy :', accuracy_score(y_train_w2v, pred_train))"
      ],
      "execution_count": null,
      "outputs": [
        {
          "output_type": "stream",
          "text": [
            "              precision    recall  f1-score   support\n",
            "\n",
            "           0       0.97      1.00      0.98      3514\n",
            "           1       1.00      0.96      0.98      2679\n",
            "\n",
            "    accuracy                           0.98      6193\n",
            "   macro avg       0.98      0.98      0.98      6193\n",
            "weighted avg       0.98      0.98      0.98      6193\n",
            "\n",
            "\n",
            "Confusion Matrix: \n",
            " [[3506    8]\n",
            " [ 100 2579]]\n",
            "\n",
            "Accuracy : 0.9825609559179719\n"
          ],
          "name": "stdout"
        }
      ]
    },
    {
      "cell_type": "code",
      "metadata": {
        "id": "ijsRr9puyiZf",
        "colab": {
          "base_uri": "https://localhost:8080/",
          "height": 272
        },
        "outputId": "925d33d7-646d-4a0f-901e-d8082723697c"
      },
      "source": [
        "#prediction and evaluation on test data with word2vec\n",
        "pred_val = decision_w2v.predict(X_val_w2v) # Test Evaluation\n",
        "print(classification_report(y_val_w2v, pred_val))\n",
        "print()\n",
        "print('Confusion Matrix: \\n', confusion_matrix(y_val_w2v, pred_val))\n",
        "print()\n",
        "print('Accuracy :', accuracy_score(y_val_w2v, pred_val))"
      ],
      "execution_count": null,
      "outputs": [
        {
          "output_type": "stream",
          "text": [
            "              precision    recall  f1-score   support\n",
            "\n",
            "           0       0.73      0.71      0.72       828\n",
            "           1       0.61      0.63      0.62       592\n",
            "\n",
            "    accuracy                           0.68      1420\n",
            "   macro avg       0.67      0.67      0.67      1420\n",
            "weighted avg       0.68      0.68      0.68      1420\n",
            "\n",
            "\n",
            "Confusion Matrix: \n",
            " [[591 237]\n",
            " [219 373]]\n",
            "\n",
            "Accuracy : 0.6788732394366197\n"
          ],
          "name": "stdout"
        }
      ]
    },
    {
      "cell_type": "code",
      "metadata": {
        "id": "rVMsbVFy6ep8"
      },
      "source": [
        ""
      ],
      "execution_count": null,
      "outputs": []
    },
    {
      "cell_type": "markdown",
      "metadata": {
        "id": "j0WUjXyj1A8J"
      },
      "source": [
        "## **Random Forest Classifier**"
      ]
    },
    {
      "cell_type": "code",
      "metadata": {
        "id": "0Ns8DBcnyyIP",
        "colab": {
          "base_uri": "https://localhost:8080/",
          "height": 153
        },
        "outputId": "238e6579-6642-46e7-8e42-619fa9c3cb59"
      },
      "source": [
        "#random Forest Classifier algorithm with word2vec\n",
        "rand_w2v = RandomForestClassifier()\n",
        "rand_w2v.fit(X_train_w2v, y_train_w2v)"
      ],
      "execution_count": null,
      "outputs": [
        {
          "output_type": "execute_result",
          "data": {
            "text/plain": [
              "RandomForestClassifier(bootstrap=True, ccp_alpha=0.0, class_weight=None,\n",
              "                       criterion='gini', max_depth=None, max_features='auto',\n",
              "                       max_leaf_nodes=None, max_samples=None,\n",
              "                       min_impurity_decrease=0.0, min_impurity_split=None,\n",
              "                       min_samples_leaf=1, min_samples_split=2,\n",
              "                       min_weight_fraction_leaf=0.0, n_estimators=100,\n",
              "                       n_jobs=None, oob_score=False, random_state=None,\n",
              "                       verbose=0, warm_start=False)"
            ]
          },
          "metadata": {
            "tags": []
          },
          "execution_count": 27
        }
      ]
    },
    {
      "cell_type": "code",
      "metadata": {
        "id": "yE6wEq4n6RL-",
        "colab": {
          "base_uri": "https://localhost:8080/",
          "height": 272
        },
        "outputId": "c30c30d6-4d9b-46b6-b74f-54749308da1f"
      },
      "source": [
        "#prediction and evaluation on train data with word2vec\n",
        "pred_train = rand_w2v.predict(X_train_w2v) # Training Evaluation\n",
        "print(classification_report(y_train_w2v, pred_train))\n",
        "print()\n",
        "print('Confusion Matrix: \\n', confusion_matrix(y_train_w2v, pred_train))\n",
        "print()\n",
        "print('Accuracy :', accuracy_score(y_train_w2v, pred_train))"
      ],
      "execution_count": null,
      "outputs": [
        {
          "output_type": "stream",
          "text": [
            "              precision    recall  f1-score   support\n",
            "\n",
            "           0       0.98      0.99      0.98      3514\n",
            "           1       0.99      0.97      0.98      2679\n",
            "\n",
            "    accuracy                           0.98      6193\n",
            "   macro avg       0.98      0.98      0.98      6193\n",
            "weighted avg       0.98      0.98      0.98      6193\n",
            "\n",
            "\n",
            "Confusion Matrix: \n",
            " [[3491   23]\n",
            " [  85 2594]]\n",
            "\n",
            "Accuracy : 0.9825609559179719\n"
          ],
          "name": "stdout"
        }
      ]
    },
    {
      "cell_type": "code",
      "metadata": {
        "id": "3RxEfvfM6ZF7",
        "colab": {
          "base_uri": "https://localhost:8080/",
          "height": 272
        },
        "outputId": "1842af84-6658-419f-9020-c4b324b700a4"
      },
      "source": [
        "#prediction and evaluation on test data with word2vec\n",
        "pred_val = rand_w2v.predict(X_val_w2v) # Test Evaluation\n",
        "print(classification_report(y_val_w2v, pred_val))\n",
        "print()\n",
        "print('Confusion Matrix: \\n', confusion_matrix(y_val_w2v, pred_val))\n",
        "print()\n",
        "print('Accuracy :', accuracy_score(y_val_w2v, pred_val))"
      ],
      "execution_count": null,
      "outputs": [
        {
          "output_type": "stream",
          "text": [
            "              precision    recall  f1-score   support\n",
            "\n",
            "           0       0.78      0.89      0.83       828\n",
            "           1       0.81      0.64      0.72       592\n",
            "\n",
            "    accuracy                           0.79      1420\n",
            "   macro avg       0.79      0.77      0.77      1420\n",
            "weighted avg       0.79      0.79      0.78      1420\n",
            "\n",
            "\n",
            "Confusion Matrix: \n",
            " [[740  88]\n",
            " [213 379]]\n",
            "\n",
            "Accuracy : 0.7880281690140845\n"
          ],
          "name": "stdout"
        }
      ]
    },
    {
      "cell_type": "markdown",
      "metadata": {
        "id": "wmJtMtmT6J8B"
      },
      "source": [
        "## **Boosting Algorithm**"
      ]
    },
    {
      "cell_type": "code",
      "metadata": {
        "id": "fb5efTUy8QKj"
      },
      "source": [
        "X_train_w2vx, y_train_w2vx  = numpy_vec[0:6193], target[0:6193]\n",
        "X_val_w2vx, y_val_w2vx = numpy_vec[6193:], target[6193:]"
      ],
      "execution_count": null,
      "outputs": []
    },
    {
      "cell_type": "code",
      "metadata": {
        "id": "cIamquBl6nBu",
        "colab": {
          "base_uri": "https://localhost:8080/",
          "height": 136
        },
        "outputId": "5d5c22ff-4505-4276-9799-77f1c6385b4d"
      },
      "source": [
        "#boosting algorithm with word2vec\n",
        "xgb_w2v = xgb.XGBClassifier()\n",
        "xgb_w2v.fit(X_train_w2vx, y_train_w2vx)"
      ],
      "execution_count": null,
      "outputs": [
        {
          "output_type": "execute_result",
          "data": {
            "text/plain": [
              "XGBClassifier(base_score=0.5, booster='gbtree', colsample_bylevel=1,\n",
              "              colsample_bynode=1, colsample_bytree=1, gamma=0,\n",
              "              learning_rate=0.1, max_delta_step=0, max_depth=3,\n",
              "              min_child_weight=1, missing=None, n_estimators=100, n_jobs=1,\n",
              "              nthread=None, objective='binary:logistic', random_state=0,\n",
              "              reg_alpha=0, reg_lambda=1, scale_pos_weight=1, seed=None,\n",
              "              silent=None, subsample=1, verbosity=1)"
            ]
          },
          "metadata": {
            "tags": []
          },
          "execution_count": 33
        }
      ]
    },
    {
      "cell_type": "code",
      "metadata": {
        "id": "S_R1UpPu7OBF",
        "colab": {
          "base_uri": "https://localhost:8080/",
          "height": 272
        },
        "outputId": "22f01847-356f-4530-d071-96c1a5cb348e"
      },
      "source": [
        "#prediction and evaluation on train data with word2vec\n",
        "pred_train = xgb_w2v.predict(X_train_w2vx) # Training Evaluation\n",
        "print(classification_report(y_train_w2vx, pred_train))\n",
        "print()\n",
        "print('Confusion Matrix: \\n', confusion_matrix(y_train_w2vx, pred_train))\n",
        "print()\n",
        "print('Accuracy :', accuracy_score(y_train_w2vx, pred_train))"
      ],
      "execution_count": null,
      "outputs": [
        {
          "output_type": "stream",
          "text": [
            "              precision    recall  f1-score   support\n",
            "\n",
            "           0       0.85      0.92      0.89      3514\n",
            "           1       0.88      0.79      0.84      2679\n",
            "\n",
            "    accuracy                           0.86      6193\n",
            "   macro avg       0.87      0.86      0.86      6193\n",
            "weighted avg       0.87      0.86      0.86      6193\n",
            "\n",
            "\n",
            "Confusion Matrix: \n",
            " [[3230  284]\n",
            " [ 553 2126]]\n",
            "\n",
            "Accuracy : 0.8648474083642822\n"
          ],
          "name": "stdout"
        }
      ]
    },
    {
      "cell_type": "code",
      "metadata": {
        "id": "Pfx7qRFK8ttd",
        "colab": {
          "base_uri": "https://localhost:8080/",
          "height": 272
        },
        "outputId": "b069bbd1-e5ef-4d0b-ca58-0b4f91b57742"
      },
      "source": [
        "#prediction and evaluation on test data with word2vec\n",
        "pred_val = xgb_w2v.predict(X_val_w2vx) # Test Evaluation\n",
        "print(classification_report(y_val_w2vx, pred_val))\n",
        "print()\n",
        "print('Confusion Matrix: \\n', confusion_matrix(y_val_w2vx, pred_val))\n",
        "print()\n",
        "print('Accuracy :', accuracy_score(y_val_w2vx, pred_val))"
      ],
      "execution_count": null,
      "outputs": [
        {
          "output_type": "stream",
          "text": [
            "              precision    recall  f1-score   support\n",
            "\n",
            "           0       0.79      0.87      0.83       828\n",
            "           1       0.78      0.68      0.73       592\n",
            "\n",
            "    accuracy                           0.79      1420\n",
            "   macro avg       0.79      0.77      0.78      1420\n",
            "weighted avg       0.79      0.79      0.79      1420\n",
            "\n",
            "\n",
            "Confusion Matrix: \n",
            " [[717 111]\n",
            " [188 404]]\n",
            "\n",
            "Accuracy : 0.7894366197183098\n"
          ],
          "name": "stdout"
        }
      ]
    },
    {
      "cell_type": "code",
      "metadata": {
        "colab": {
          "base_uri": "https://localhost:8080/",
          "height": 195
        },
        "id": "HF0hNID4CYV1",
        "outputId": "dee75d75-f8bf-41c4-e2d7-6069c17b2675"
      },
      "source": [
        "df = pd.read_csv(\"/content/drive/MyDrive/Uyime's Project/Disaster Comparison Table for different Classifier.csv\")\n",
        "df"
      ],
      "execution_count": null,
      "outputs": [
        {
          "output_type": "execute_result",
          "data": {
            "text/html": [
              "<div>\n",
              "<style scoped>\n",
              "    .dataframe tbody tr th:only-of-type {\n",
              "        vertical-align: middle;\n",
              "    }\n",
              "\n",
              "    .dataframe tbody tr th {\n",
              "        vertical-align: top;\n",
              "    }\n",
              "\n",
              "    .dataframe thead th {\n",
              "        text-align: right;\n",
              "    }\n",
              "</style>\n",
              "<table border=\"1\" class=\"dataframe\">\n",
              "  <thead>\n",
              "    <tr style=\"text-align: right;\">\n",
              "      <th></th>\n",
              "      <th>Classifiers</th>\n",
              "      <th>Accuracy</th>\n",
              "      <th>Precision</th>\n",
              "      <th>recall</th>\n",
              "      <th>F1_Score</th>\n",
              "    </tr>\n",
              "  </thead>\n",
              "  <tbody>\n",
              "    <tr>\n",
              "      <th>0</th>\n",
              "      <td>DT</td>\n",
              "      <td>0.68</td>\n",
              "      <td>0.73</td>\n",
              "      <td>0.71</td>\n",
              "      <td>0.72</td>\n",
              "    </tr>\n",
              "    <tr>\n",
              "      <th>1</th>\n",
              "      <td>XGB</td>\n",
              "      <td>0.79</td>\n",
              "      <td>0.79</td>\n",
              "      <td>0.87</td>\n",
              "      <td>0.83</td>\n",
              "    </tr>\n",
              "    <tr>\n",
              "      <th>2</th>\n",
              "      <td>SVM</td>\n",
              "      <td>0.81</td>\n",
              "      <td>0.81</td>\n",
              "      <td>0.90</td>\n",
              "      <td>0.85</td>\n",
              "    </tr>\n",
              "    <tr>\n",
              "      <th>3</th>\n",
              "      <td>BERT</td>\n",
              "      <td>0.82</td>\n",
              "      <td>0.00</td>\n",
              "      <td>0.00</td>\n",
              "      <td>0.00</td>\n",
              "    </tr>\n",
              "    <tr>\n",
              "      <th>4</th>\n",
              "      <td>RF</td>\n",
              "      <td>0.79</td>\n",
              "      <td>0.78</td>\n",
              "      <td>0.89</td>\n",
              "      <td>0.83</td>\n",
              "    </tr>\n",
              "  </tbody>\n",
              "</table>\n",
              "</div>"
            ],
            "text/plain": [
              "  Classifiers  Accuracy  Precision  recall  F1_Score\n",
              "0          DT      0.68       0.73    0.71      0.72\n",
              "1         XGB      0.79       0.79    0.87      0.83\n",
              "2         SVM      0.81       0.81    0.90      0.85\n",
              "3        BERT      0.82       0.00    0.00      0.00\n",
              "4          RF      0.79       0.78    0.89      0.83"
            ]
          },
          "metadata": {
            "tags": []
          },
          "execution_count": 10
        }
      ]
    },
    {
      "cell_type": "code",
      "metadata": {
        "id": "ib6Y8PHbMa8-"
      },
      "source": [
        ""
      ],
      "execution_count": null,
      "outputs": []
    }
  ]
}